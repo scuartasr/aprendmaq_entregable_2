{
 "cells": [
  {
   "cell_type": "markdown",
   "id": "6bc51a6a",
   "metadata": {},
   "source": [
    "# <span style = 'color: red'>**Práctica dos.** Aprendizaje de máquina. *Redes neuronales*</span>\n",
    "\n",
    "# ***Parte dos.*** **Series de tiempo con RNN y LSTM.**\n",
    "\n",
    "## **Simón Cuartas Rendón**\n",
    "\n",
    "En este *notebook* de Python se aborda el desarrollo del **segundo problema** de la *práctica dos* del curso de **Aprendizaje de Máquina**.\n",
    "\n",
    "A continuación, se abren los paquetes que se usarán para dar solución al problema propuesto.\n",
    "\n",
    "**Anotación.** Este *notebook* está disponible en línea para facilitar su revisión. Se puede acceder al repositorio de GitHub [aquí](https://github.com/scuartasr/aprendmaq_entregable_2/tree/main), y en particular, a este cuaderno [aquí](XXXX)."
   ]
  }
 ],
 "metadata": {
  "kernelspec": {
   "display_name": ".venv",
   "language": "python",
   "name": "python3"
  },
  "language_info": {
   "name": "python",
   "version": "3.10.16"
  }
 },
 "nbformat": 4,
 "nbformat_minor": 5
}
