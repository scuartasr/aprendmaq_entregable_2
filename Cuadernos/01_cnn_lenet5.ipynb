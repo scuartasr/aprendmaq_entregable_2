{
 "cells": [
  {
   "cell_type": "markdown",
   "id": "9604e043",
   "metadata": {},
   "source": [
    "# <span style = 'color: red'>**Práctica uno.** Aprendizaje de máquina. *Redes neuronales*</span>\n",
    "\n",
    "# ***Parte uno.*** **CNN y LeNET5.**\n",
    "\n",
    "## **Simón Cuartas Rendón**\n",
    "\n",
    "En este *notebook* de Python se aborda el desarrollo del **primer problema** de la *práctica dos* del curso de **Aprendizaje de Máquina**.\n",
    "\n",
    "A continuación, se abren los paquetes que se usarán para dar solución al problema propuesto.\n",
    "\n",
    "**Anotación.** Este *notebook* está disponible en línea para facilitar su revisión. Se puede acceder al repositorio de GitHub [aquí](https://github.com/scuartasr/aprendmaq_entregable_2/tree/main), y en particular, a este cuaderno aquí."
   ]
  }
 ],
 "metadata": {
  "kernelspec": {
   "display_name": ".venv",
   "language": "python",
   "name": "python3"
  },
  "language_info": {
   "codemirror_mode": {
    "name": "ipython",
    "version": 3
   },
   "file_extension": ".py",
   "mimetype": "text/x-python",
   "name": "python",
   "nbconvert_exporter": "python",
   "pygments_lexer": "ipython3",
   "version": "3.10.16"
  }
 },
 "nbformat": 4,
 "nbformat_minor": 5
}
